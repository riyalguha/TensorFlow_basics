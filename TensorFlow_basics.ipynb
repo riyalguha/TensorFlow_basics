{
  "cells": [
    {
      "cell_type": "markdown",
      "metadata": {
        "id": "view-in-github",
        "colab_type": "text"
      },
      "source": [
        "<a href=\"https://colab.research.google.com/github/riyalguha/TensorFlow_basics/blob/main/TensorFlow_basics.ipynb\" target=\"_parent\"><img src=\"https://colab.research.google.com/assets/colab-badge.svg\" alt=\"Open In Colab\"/></a>"
      ]
    },
    {
      "cell_type": "code",
      "execution_count": 1,
      "metadata": {
        "id": "jXJUsL7NHZA6"
      },
      "outputs": [],
      "source": [
        "import tensorflow as tf"
      ]
    },
    {
      "cell_type": "code",
      "execution_count": null,
      "metadata": {
        "colab": {
          "base_uri": "https://localhost:8080/"
        },
        "id": "9qAz0DFJHcPb",
        "outputId": "f050c667-7776-47a5-8a77-496dd1eabc43"
      },
      "outputs": [
        {
          "name": "stdout",
          "output_type": "stream",
          "text": [
            "tf.Tensor(4, shape=(), dtype=int32)\n"
          ]
        }
      ],
      "source": [
        "tensor_zero_d=tf.constant(4)\n",
        "print(tensor_zero_d)"
      ]
    },
    {
      "cell_type": "code",
      "execution_count": null,
      "metadata": {
        "colab": {
          "base_uri": "https://localhost:8080/"
        },
        "id": "jNT8H3R4IP_B",
        "outputId": "537adf23-7e1a-4e3b-a2f8-10a07e08f67f"
      },
      "outputs": [
        {
          "name": "stdout",
          "output_type": "stream",
          "text": [
            "tf.Tensor([ 2  0 -3  8 90], shape=(5,), dtype=int32)\n"
          ]
        }
      ],
      "source": [
        "tensor_one_d = tf.constant([2,0,-3,8,90])\n",
        "print(tensor_one_d)"
      ]
    },
    {
      "cell_type": "code",
      "execution_count": null,
      "metadata": {
        "colab": {
          "base_uri": "https://localhost:8080/"
        },
        "id": "GT81zwbtIibc",
        "outputId": "b9efb191-9881-479c-d70d-518f38c8664e"
      },
      "outputs": [
        {
          "name": "stdout",
          "output_type": "stream",
          "text": [
            "tf.Tensor(\n",
            "[[1 2 0]\n",
            " [3 5 1]\n",
            " [1 5 6]\n",
            " [2 3 8]], shape=(4, 3), dtype=int32)\n"
          ]
        }
      ],
      "source": [
        "tensor_two_d = tf.constant([\n",
        "    [1,2,0],\n",
        "    [3,5,1],\n",
        "    [1,5,6],\n",
        "    [2,3,8]\n",
        "])\n",
        "print(tensor_two_d)"
      ]
    },
    {
      "cell_type": "code",
      "execution_count": null,
      "metadata": {
        "colab": {
          "base_uri": "https://localhost:8080/"
        },
        "id": "jBj6GYlWJUK-",
        "outputId": "94543e07-753a-4894-b2c4-31336c108149"
      },
      "outputs": [
        {
          "name": "stdout",
          "output_type": "stream",
          "text": [
            "tf.Tensor(\n",
            "[[[ 1  2  0]\n",
            "  [ 3  5 -1]]\n",
            "\n",
            " [[10  2  0]\n",
            "  [ 1  0  2]]\n",
            "\n",
            " [[ 5  8  0]\n",
            "  [ 2  7  0]]\n",
            "\n",
            " [[ 2  1  9]\n",
            "  [ 4 -3 32]]], shape=(4, 2, 3), dtype=int32)\n"
          ]
        }
      ],
      "source": [
        "tensor_three_d = tf.constant([\n",
        "    [[1,2,0],\n",
        "     [3,5,-1]],\n",
        "    [[10,2,0],\n",
        "     [1,0,2]],\n",
        "    [[5,8,0]\n",
        "     ,[2,7,0]],\n",
        "    [[2,1,9],\n",
        "     [4,-3,32]]\n",
        "])\n",
        "print(tensor_three_d)"
      ]
    },
    {
      "cell_type": "code",
      "execution_count": null,
      "metadata": {
        "colab": {
          "base_uri": "https://localhost:8080/"
        },
        "id": "m7385yZ7KSfJ",
        "outputId": "fde19e34-6f13-4455-c4ec-26f9b663d432"
      },
      "outputs": [
        {
          "data": {
            "text/plain": [
              "TensorShape([4, 2, 3])"
            ]
          },
          "execution_count": 6,
          "metadata": {},
          "output_type": "execute_result"
        }
      ],
      "source": [
        "tensor_three_d.shape"
      ]
    },
    {
      "cell_type": "code",
      "execution_count": null,
      "metadata": {
        "colab": {
          "base_uri": "https://localhost:8080/"
        },
        "id": "j7ljB6X1Kq16",
        "outputId": "c8a303c9-faad-4da7-da0f-059e4fbe2107"
      },
      "outputs": [
        {
          "data": {
            "text/plain": [
              "3"
            ]
          },
          "execution_count": 7,
          "metadata": {},
          "output_type": "execute_result"
        }
      ],
      "source": [
        "tensor_three_d.ndim"
      ]
    },
    {
      "cell_type": "code",
      "execution_count": null,
      "metadata": {
        "colab": {
          "base_uri": "https://localhost:8080/"
        },
        "id": "YD2PBvTSKtUz",
        "outputId": "86b8d8da-91de-43e4-e545-f53fb829c554"
      },
      "outputs": [
        {
          "name": "stdout",
          "output_type": "stream",
          "text": [
            "tf.Tensor(\n",
            "[[[[  1   2   0]\n",
            "   [  3   5  -1]]\n",
            "\n",
            "  [[ 10   2   0]\n",
            "   [  1   0   2]]\n",
            "\n",
            "  [[  5   8   0]\n",
            "   [  2   7   0]]\n",
            "\n",
            "  [[  2   1   9]\n",
            "   [  4  -3  32]]]\n",
            "\n",
            "\n",
            " [[[ 13  26   0]\n",
            "   [ 13  15 -10]]\n",
            "\n",
            "  [[  1  21  10]\n",
            "   [ 11  20  22]]\n",
            "\n",
            "  [[ 15  18  10]\n",
            "   [  2   7   0]]\n",
            "\n",
            "  [[ 22  21  29]\n",
            "   [ 24 -32  32]]]\n",
            "\n",
            "\n",
            " [[[ 11  12  10]\n",
            "   [ 31  15 -11]]\n",
            "\n",
            "  [[110  21  10]\n",
            "   [ 11  10  21]]\n",
            "\n",
            "  [[ 15  81  10]\n",
            "   [ 21  71  10]]\n",
            "\n",
            "  [[ 21  11  91]\n",
            "   [ 41 -13  32]]]], shape=(3, 4, 2, 3), dtype=int32)\n"
          ]
        }
      ],
      "source": [
        "tensor_four_d=tf.constant([\n",
        " [\n",
        "    [[1,2,0],\n",
        "     [3,5,-1]],\n",
        "    [[10,2,0],\n",
        "     [1,0,2]],\n",
        "    [[5,8,0]\n",
        "     ,[2,7,0]],\n",
        "    [[2,1,9],\n",
        "     [4,-3,32]]\n",
        "],\n",
        "[\n",
        "    [[13,26,0],\n",
        "     [13,15,-10]],\n",
        "    [[1,21,10],\n",
        "     [11,20,22]],\n",
        "    [[15,18,10]\n",
        "     ,[2,7,0]],\n",
        "    [[22,21,29],\n",
        "     [24,-32,32]]\n",
        "],\n",
        "[\n",
        "    [[11,12,10],\n",
        "     [31,15,-11]],\n",
        "    [[110,21,10],\n",
        "     [11,10,21]],\n",
        "    [[15,81,10]\n",
        "     ,[21,71,10]],\n",
        "    [[21,11,91],\n",
        "     [41,-13,32]]\n",
        "]\n",
        " ])\n",
        "print(tensor_four_d)"
      ]
    },
    {
      "cell_type": "code",
      "execution_count": null,
      "metadata": {
        "colab": {
          "base_uri": "https://localhost:8080/"
        },
        "id": "SDBxq5NYLlg-",
        "outputId": "69fcfbcb-dd91-4187-fe0e-825772626ddf"
      },
      "outputs": [
        {
          "name": "stdout",
          "output_type": "stream",
          "text": [
            "tf.Tensor([ 2.  0. -3.  8. 90.], shape=(5,), dtype=float32)\n"
          ]
        }
      ],
      "source": [
        "# changing the datatype of a tensor from integer to float\n",
        "casted_tensor_one_d = tf.cast(tensor_one_d,dtype=tf.float32)\n",
        "print(casted_tensor_one_d)"
      ]
    },
    {
      "cell_type": "code",
      "execution_count": null,
      "metadata": {
        "colab": {
          "base_uri": "https://localhost:8080/"
        },
        "id": "zUi1yZ5DM9eR",
        "outputId": "c078863d-06cb-41f7-c85a-bb2b3d7cba6d"
      },
      "outputs": [
        {
          "name": "stdout",
          "output_type": "stream",
          "text": [
            "tf.Tensor([ True  True False], shape=(3,), dtype=bool)\n"
          ]
        }
      ],
      "source": [
        "tensor_bool = tf.constant([True,True,False])\n",
        "print(tensor_bool)"
      ]
    },
    {
      "cell_type": "code",
      "execution_count": null,
      "metadata": {
        "colab": {
          "base_uri": "https://localhost:8080/"
        },
        "id": "1Hcffv_MNlWQ",
        "outputId": "691616ea-ccf5-471e-cf34-a5720a30d10c"
      },
      "outputs": [
        {
          "name": "stdout",
          "output_type": "stream",
          "text": [
            "tf.Tensor([b'Hello World' b'Hi' b'Hey'], shape=(3,), dtype=string)\n"
          ]
        }
      ],
      "source": [
        "tensor_string = tf.constant([\"Hello World\",\"Hi\",\"Hey\"])\n",
        "print(tensor_string)"
      ]
    },
    {
      "cell_type": "code",
      "execution_count": null,
      "metadata": {
        "id": "o02yDDbaNyhu"
      },
      "outputs": [],
      "source": [
        "import numpy as np"
      ]
    },
    {
      "cell_type": "code",
      "execution_count": null,
      "metadata": {
        "colab": {
          "base_uri": "https://localhost:8080/"
        },
        "id": "1GAwJ20POY6n",
        "outputId": "6b92bbe2-fa87-431f-ba22-6a790590e699"
      },
      "outputs": [
        {
          "name": "stdout",
          "output_type": "stream",
          "text": [
            "[1 2 4]\n"
          ]
        }
      ],
      "source": [
        "np_array=np.array([1,2,4])\n",
        "print(np_array)"
      ]
    },
    {
      "cell_type": "code",
      "execution_count": null,
      "metadata": {
        "colab": {
          "base_uri": "https://localhost:8080/"
        },
        "id": "KDja7tV0OfwO",
        "outputId": "cd511101-6426-4d72-adcd-fd57129f0e51"
      },
      "outputs": [
        {
          "name": "stdout",
          "output_type": "stream",
          "text": [
            "tf.Tensor([1 2 4], shape=(3,), dtype=int64)\n"
          ]
        }
      ],
      "source": [
        "converted_tensor_from_nparray = tf.convert_to_tensor(np_array)\n",
        "print(converted_tensor_from_nparray)"
      ]
    },
    {
      "cell_type": "code",
      "execution_count": null,
      "metadata": {
        "colab": {
          "base_uri": "https://localhost:8080/"
        },
        "id": "vIjp0jHIOvT9",
        "outputId": "8053459a-f6ad-43d9-a26f-1bffcb9a9736"
      },
      "outputs": [
        {
          "name": "stdout",
          "output_type": "stream",
          "text": [
            "tf.Tensor(\n",
            "[[[[1. 0. 0. 0. 0.]\n",
            "   [0. 1. 0. 0. 0.]\n",
            "   [0. 0. 1. 0. 0.]\n",
            "   [0. 0. 0. 1. 0.]\n",
            "   [0. 0. 0. 0. 1.]]\n",
            "\n",
            "  [[1. 0. 0. 0. 0.]\n",
            "   [0. 1. 0. 0. 0.]\n",
            "   [0. 0. 1. 0. 0.]\n",
            "   [0. 0. 0. 1. 0.]\n",
            "   [0. 0. 0. 0. 1.]]\n",
            "\n",
            "  [[1. 0. 0. 0. 0.]\n",
            "   [0. 1. 0. 0. 0.]\n",
            "   [0. 0. 1. 0. 0.]\n",
            "   [0. 0. 0. 1. 0.]\n",
            "   [0. 0. 0. 0. 1.]]\n",
            "\n",
            "  [[1. 0. 0. 0. 0.]\n",
            "   [0. 1. 0. 0. 0.]\n",
            "   [0. 0. 1. 0. 0.]\n",
            "   [0. 0. 0. 1. 0.]\n",
            "   [0. 0. 0. 0. 1.]]]\n",
            "\n",
            "\n",
            " [[[1. 0. 0. 0. 0.]\n",
            "   [0. 1. 0. 0. 0.]\n",
            "   [0. 0. 1. 0. 0.]\n",
            "   [0. 0. 0. 1. 0.]\n",
            "   [0. 0. 0. 0. 1.]]\n",
            "\n",
            "  [[1. 0. 0. 0. 0.]\n",
            "   [0. 1. 0. 0. 0.]\n",
            "   [0. 0. 1. 0. 0.]\n",
            "   [0. 0. 0. 1. 0.]\n",
            "   [0. 0. 0. 0. 1.]]\n",
            "\n",
            "  [[1. 0. 0. 0. 0.]\n",
            "   [0. 1. 0. 0. 0.]\n",
            "   [0. 0. 1. 0. 0.]\n",
            "   [0. 0. 0. 1. 0.]\n",
            "   [0. 0. 0. 0. 1.]]\n",
            "\n",
            "  [[1. 0. 0. 0. 0.]\n",
            "   [0. 1. 0. 0. 0.]\n",
            "   [0. 0. 1. 0. 0.]\n",
            "   [0. 0. 0. 1. 0.]\n",
            "   [0. 0. 0. 0. 1.]]]], shape=(2, 4, 5, 5), dtype=float32)\n"
          ]
        }
      ],
      "source": [
        "tensor_eye = tf.eye(\n",
        "    num_rows=5,\n",
        "    num_columns=None,\n",
        "    batch_shape=[2,4],\n",
        "    dtype=tf.dtypes.float32,\n",
        "    name=None\n",
        ")\n",
        "print(tensor_eye)"
      ]
    },
    {
      "cell_type": "code",
      "execution_count": null,
      "metadata": {
        "colab": {
          "base_uri": "https://localhost:8080/"
        },
        "id": "hgusJOPiQEF3",
        "outputId": "bcd94b88-f9fd-497a-8933-afdeca1f01e6"
      },
      "outputs": [
        {
          "name": "stdout",
          "output_type": "stream",
          "text": [
            "tf.Tensor(\n",
            "[[[5 5 5 5]\n",
            "  [5 5 5 5]\n",
            "  [5 5 5 5]]], shape=(1, 3, 4), dtype=int32)\n"
          ]
        }
      ],
      "source": [
        "fill_tensor = tf.fill(\n",
        "    [1,3,4],5,name=None\n",
        ")\n",
        "print(fill_tensor)"
      ]
    },
    {
      "cell_type": "code",
      "execution_count": null,
      "metadata": {
        "colab": {
          "base_uri": "https://localhost:8080/"
        },
        "id": "MjjfrPZvQp5t",
        "outputId": "83eeace7-d66e-4705-f48f-af62bec5bef6"
      },
      "outputs": [
        {
          "name": "stdout",
          "output_type": "stream",
          "text": [
            "tf.Tensor(\n",
            "[[1. 1. 1.]\n",
            " [1. 1. 1.]\n",
            " [1. 1. 1.]\n",
            " [1. 1. 1.]\n",
            " [1. 1. 1.]], shape=(5, 3), dtype=float32)\n"
          ]
        }
      ],
      "source": [
        "ones_tensor= tf.ones(\n",
        "    [5,3],\n",
        "    dtype=tf.dtypes.float32,\n",
        "    name=None\n",
        ")\n",
        "print(ones_tensor)"
      ]
    },
    {
      "cell_type": "code",
      "execution_count": null,
      "metadata": {
        "colab": {
          "base_uri": "https://localhost:8080/"
        },
        "id": "PBdrGxDLRN2o",
        "outputId": "8be90638-ed41-4781-da48-f70e58705e15"
      },
      "outputs": [
        {
          "name": "stdout",
          "output_type": "stream",
          "text": [
            "tf.Tensor(\n",
            "[[[1 1 1 1]\n",
            "  [1 1 1 1]\n",
            "  [1 1 1 1]]], shape=(1, 3, 4), dtype=int32)\n"
          ]
        }
      ],
      "source": [
        "ones_like_tensor= tf.ones_like(fill_tensor)\n",
        "print(ones_like_tensor)"
      ]
    },
    {
      "cell_type": "code",
      "execution_count": null,
      "metadata": {
        "colab": {
          "base_uri": "https://localhost:8080/"
        },
        "id": "nZ9HnaHezUtU",
        "outputId": "f1da09b0-c5bf-4a65-faff-dfeeeda5d86c"
      },
      "outputs": [
        {
          "data": {
            "text/plain": [
              "<tf.Tensor: shape=(), dtype=int32, numpy=3>"
            ]
          },
          "execution_count": 19,
          "metadata": {},
          "output_type": "execute_result"
        }
      ],
      "source": [
        "#shape of tensor 't' is [2,2,3]\n",
        "t = tf.constant([[[1,1,1],[2,2,2]],[[3,3,3],[4,4,4]]])\n",
        "tf.rank(t)\n",
        "# tf.size(t)"
      ]
    },
    {
      "cell_type": "code",
      "execution_count": null,
      "metadata": {
        "colab": {
          "base_uri": "https://localhost:8080/"
        },
        "id": "RoWJK4s6qyDZ",
        "outputId": "eebd53d3-75ea-4254-b92c-65f874988d70"
      },
      "outputs": [
        {
          "name": "stdout",
          "output_type": "stream",
          "text": [
            "tf.Tensor(\n",
            "[[100.62629  98.75391]\n",
            " [101.04674 100.06829]\n",
            " [ 99.96516  98.41479]], shape=(3, 2), dtype=float32)\n"
          ]
        }
      ],
      "source": [
        "random_tensor = tf.random.normal(\n",
        "    [3,2],\n",
        "    mean=100.0,\n",
        "    stddev=1.0,\n",
        "    dtype=tf.dtypes.float32,\n",
        "    seed=None,\n",
        "    name=None\n",
        ")\n",
        "print(random_tensor)"
      ]
    },
    {
      "cell_type": "code",
      "execution_count": null,
      "metadata": {
        "colab": {
          "base_uri": "https://localhost:8080/"
        },
        "id": "ilCu8JufxfJ8",
        "outputId": "ce75d137-dd4c-4698-9121-79a228cf2d23"
      },
      "outputs": [
        {
          "name": "stdout",
          "output_type": "stream",
          "text": [
            "tf.Tensor([ 4  3 46 70  0], shape=(5,), dtype=int32)\n"
          ]
        }
      ],
      "source": [
        "random_tensor = tf.random.uniform(\n",
        "    [5,],\n",
        "    minval=0,\n",
        "    maxval=100,\n",
        "    dtype = tf.dtypes.int32,\n",
        "    seed=None,\n",
        "    name=None\n",
        ")\n",
        "print(random_tensor)"
      ]
    },
    {
      "cell_type": "code",
      "execution_count": null,
      "metadata": {
        "colab": {
          "base_uri": "https://localhost:8080/"
        },
        "id": "Iac6H9_85PeO",
        "outputId": "5340e9e4-778e-4292-cb67-34cf8fd403e7"
      },
      "outputs": [
        {
          "name": "stdout",
          "output_type": "stream",
          "text": [
            "tf.Tensor([ 3  6  2  4  6 66  7], shape=(7,), dtype=int32)\n",
            "tf.Tensor([3 6 2 4], shape=(4,), dtype=int32)\n",
            "tf.Tensor([3 2 6 7], shape=(4,), dtype=int32)\n",
            "tf.Tensor([ 3  6  2  4  6 66], shape=(6,), dtype=int32)\n"
          ]
        }
      ],
      "source": [
        "tensor_indexing=tf.constant([3,6,2,4,6,66,7])\n",
        "print(tensor_indexing[:])\n",
        "print(tensor_indexing[0:4])\n",
        "print(tensor_indexing[0::2])\n",
        "print(tensor_indexing[0:-1])"
      ]
    },
    {
      "cell_type": "code",
      "execution_count": null,
      "metadata": {
        "colab": {
          "base_uri": "https://localhost:8080/"
        },
        "id": "dVLoZ36x9XEl",
        "outputId": "9fab2522-ef85-476b-b8f0-d433292dc6bb"
      },
      "outputs": [
        {
          "name": "stdout",
          "output_type": "stream",
          "text": [
            "tf.Tensor(\n",
            "[[1 2]\n",
            " [3 5]\n",
            " [1 5]], shape=(3, 2), dtype=int32)\n",
            "tf.Tensor(\n",
            "[[1 2 0]\n",
            " [3 5 1]\n",
            " [1 5 6]], shape=(3, 3), dtype=int32)\n",
            "tf.Tensor([1 5 6], shape=(3,), dtype=int32)\n",
            "tf.Tensor([1 3 1 2], shape=(4,), dtype=int32)\n"
          ]
        }
      ],
      "source": [
        "tensor_two_d = tf.constant([\n",
        "    [1,2,0],\n",
        "    [3,5,1],\n",
        "    [1,5,6],\n",
        "    [2,3,8]\n",
        "])\n",
        "print(tensor_two_d[:3,:2])\n",
        "print(tensor_two_d[:3,:])\n",
        "print(tensor_two_d[2,:])\n",
        "print(tensor_two_d[:,0])"
      ]
    },
    {
      "cell_type": "code",
      "execution_count": null,
      "metadata": {
        "id": "yHlYW8LD-0je"
      },
      "outputs": [],
      "source": []
    },
    {
      "cell_type": "code",
      "execution_count": null,
      "metadata": {
        "colab": {
          "base_uri": "https://localhost:8080/"
        },
        "id": "BzMeQucx_9Pc",
        "outputId": "45ae5adb-245b-4e3d-ef08-c99d344cdbaa"
      },
      "outputs": [
        {
          "name": "stdout",
          "output_type": "stream",
          "text": [
            "tf.Tensor(\n",
            "[[ 1  2  0]\n",
            " [ 3  5 -1]], shape=(2, 3), dtype=int32)\n"
          ]
        }
      ],
      "source": [
        "tensor_three_d = tf.constant([\n",
        "    [[1,2,0],\n",
        "     [3,5,-1]],\n",
        "    [[10,2,0],\n",
        "     [1,0,2]],\n",
        "    [[5,8,0]\n",
        "     ,[2,7,0]],\n",
        "    [[2,1,9],\n",
        "     [4,-3,32]]\n",
        "])\n",
        "print(tensor_three_d[0,:,:])"
      ]
    },
    {
      "cell_type": "code",
      "execution_count": null,
      "metadata": {
        "colab": {
          "base_uri": "https://localhost:8080/"
        },
        "id": "xYsoIMAzAAYP",
        "outputId": "d43112d5-f21c-4bc0-dbc6-af41321749c4"
      },
      "outputs": [
        {
          "name": "stdout",
          "output_type": "stream",
          "text": [
            "tf.Tensor([2 2 1], shape=(3,), dtype=int64)\n",
            "tf.Tensor([0 3 3], shape=(3,), dtype=int64)\n"
          ]
        }
      ],
      "source": [
        "x_argmax=tf.constant([\n",
        "                      [2,20,30,3,6],\n",
        "                      [3,11,16,1,8],\n",
        "                      [14,45,23,5,27]\n",
        "                      ])\n",
        "print(tf.math.argmax(x_argmax,1))\n",
        "print(tf.math.argmin(x_argmax,1))"
      ]
    },
    {
      "cell_type": "code",
      "execution_count": null,
      "metadata": {
        "colab": {
          "base_uri": "https://localhost:8080/"
        },
        "id": "8WAF_F1yEKuP",
        "outputId": "e7b71f91-d22d-45be-e5dd-422a34f707ee"
      },
      "outputs": [
        {
          "name": "stdout",
          "output_type": "stream",
          "text": [
            "tf.Tensor(\n",
            "[[ 3.]\n",
            " [ 9.]\n",
            " [12.]\n",
            " [13.]], shape=(4, 1), dtype=float16)\n",
            "tf.Tensor(\n",
            "[[2.]\n",
            " [5.]\n",
            " [6.]\n",
            " [8.]], shape=(4, 1), dtype=float16)\n",
            "tf.Tensor(\n",
            "[[0.]\n",
            " [1.]\n",
            " [1.]\n",
            " [2.]], shape=(4, 1), dtype=float16)\n",
            "tf.Tensor([[1.75 3.75 3.75]], shape=(1, 3), dtype=float16)\n",
            "tf.Tensor([[0.829 1.299 3.346]], shape=(1, 3), dtype=float16)\n"
          ]
        }
      ],
      "source": [
        "tensor_two_d = tf.constant([\n",
        "    [1,2,0],\n",
        "    [3,5,1],\n",
        "    [1,5,6],\n",
        "    [2,3,8]\n",
        "],dtype=tf.float16)\n",
        "print(tf.math.reduce_sum(tensor_two_d,axis=1,keepdims=True,name=None))\n",
        "print(tf.math.reduce_max(tensor_two_d,axis=1,keepdims=True,name=None))\n",
        "print(tf.math.reduce_min(tensor_two_d,axis=1,keepdims=True,name=None))\n",
        "print(tf.math.reduce_mean(tensor_two_d,axis=0,keepdims=True,name=None))\n",
        "print(tf.math.reduce_std(tensor_two_d,axis=0,keepdims=True,name=None))"
      ]
    },
    {
      "cell_type": "code",
      "execution_count": null,
      "metadata": {
        "colab": {
          "base_uri": "https://localhost:8080/"
        },
        "id": "1YyLs8zeHy8K",
        "outputId": "e6131df9-b0c7-4eba-9413-32f0b6637e02"
      },
      "outputs": [
        {
          "name": "stdout",
          "output_type": "stream",
          "text": [
            "TopKV2(values=<tf.Tensor: shape=(4, 1), dtype=float16, numpy=\n",
            "array([[2.],\n",
            "       [5.],\n",
            "       [6.],\n",
            "       [8.]], dtype=float16)>, indices=<tf.Tensor: shape=(4, 1), dtype=int32, numpy=\n",
            "array([[1],\n",
            "       [1],\n",
            "       [2],\n",
            "       [2]], dtype=int32)>)\n"
          ]
        }
      ],
      "source": [
        "print(tf.math.top_k(tensor_two_d))"
      ]
    },
    {
      "cell_type": "code",
      "execution_count": null,
      "metadata": {
        "colab": {
          "base_uri": "https://localhost:8080/"
        },
        "id": "BkABXjUPKOnG",
        "outputId": "cfee96d9-2493-4771-b82a-9acc38e35781"
      },
      "outputs": [
        {
          "data": {
            "text/plain": [
              "<tf.Tensor: shape=(3, 3), dtype=int32, numpy=\n",
              "array([[10, 17, -3],\n",
              "       [17, 29, -5],\n",
              "       [-3, -5,  1]], dtype=int32)>"
            ]
          },
          "execution_count": 28,
          "metadata": {},
          "output_type": "execute_result"
        }
      ],
      "source": [
        "x_1=tf.constant([[1,2,0],\n",
        "                 [3,5,-1]])\n",
        "x_2=tf.constant([[1,2,0],\n",
        "                 [3,5,-1]\n",
        "                 ])\n",
        "tf.linalg.matmul(\n",
        "    x_1,x_2,transpose_a=True,transpose_b=False,adjoint_a=False,adjoint_b=False,\n",
        "    a_is_sparse=False,b_is_sparse=False,output_type=None,name=None\n",
        ")"
      ]
    },
    {
      "cell_type": "code",
      "execution_count": null,
      "metadata": {
        "colab": {
          "base_uri": "https://localhost:8080/"
        },
        "id": "AcG7O5Jxcupi",
        "outputId": "508c74a2-9a89-4cda-83c2-346b3d61ecbb"
      },
      "outputs": [
        {
          "data": {
            "text/plain": [
              "<tf.Tensor: shape=(3, 2), dtype=int32, numpy=\n",
              "array([[ 1,  3],\n",
              "       [ 2,  5],\n",
              "       [ 0, -1]], dtype=int32)>"
            ]
          },
          "execution_count": 29,
          "metadata": {},
          "output_type": "execute_result"
        }
      ],
      "source": [
        "tf.transpose(x_1)"
      ]
    },
    {
      "cell_type": "code",
      "execution_count": null,
      "metadata": {
        "colab": {
          "base_uri": "https://localhost:8080/"
        },
        "id": "N4oRfTRBdhPi",
        "outputId": "5df3bf1b-ede9-44a1-93e6-aaed785e5d45"
      },
      "outputs": [
        {
          "name": "stdout",
          "output_type": "stream",
          "text": [
            "tf.Tensor(\n",
            "[[1 0 0]\n",
            " [0 5 0]\n",
            " [0 0 6]\n",
            " [0 0 0]], shape=(4, 3), dtype=int32)\n",
            "tf.Tensor(\n",
            "[[  1   2   0]\n",
            " [  0   5 100]\n",
            " [  0   0   6]\n",
            " [  0   0   0]], shape=(4, 3), dtype=int32)\n",
            "tf.Tensor(\n",
            "[[1 0 0]\n",
            " [3 5 0]\n",
            " [1 5 6]\n",
            " [2 3 8]], shape=(4, 3), dtype=int32)\n"
          ]
        }
      ],
      "source": [
        "tensor_two_d=tf.constant([[1,2,0],\n",
        "                          [3,5,100],\n",
        "                          [1,5,6],\n",
        "                          [2,3,8]])\n",
        "print(tf.linalg.band_part(tensor_two_d,0,0))#Gives Diagonal\n",
        "print(tf.linalg.band_part(tensor_two_d,0,-1))#Gives Upper Triangular Matrix\n",
        "print(tf.linalg.band_part(tensor_two_d,-1,0))#Gives Lower Triangular Matrix"
      ]
    },
    {
      "cell_type": "code",
      "execution_count": null,
      "metadata": {
        "id": "J6U9btlHz4AO"
      },
      "outputs": [],
      "source": [
        "tensor_two_d=tf.constant([[1,2,0,10],\n",
        "                          [3,5,100,12],\n",
        "                          [1,5,6,2],\n",
        "                          [2,3,8,0]],dtype=tf.float32)\n",
        "tensor_two_d_inv = tf.linalg.inv(tensor_two_d)"
      ]
    },
    {
      "cell_type": "code",
      "execution_count": null,
      "metadata": {
        "colab": {
          "base_uri": "https://localhost:8080/"
        },
        "id": "552Ijq6s1oBC",
        "outputId": "d4ebf6d1-f461-4b1a-a93b-eaa22e84aea4"
      },
      "outputs": [
        {
          "name": "stdout",
          "output_type": "stream",
          "text": [
            "tf.Tensor(\n",
            "[[ 1.2412921e-01 -2.9765673e-02 -4.4205201e-01  7.0360994e-01]\n",
            " [-4.8131734e-02 -8.8663707e-03  2.9385689e-01 -1.0956303e-01]\n",
            " [-1.2982901e-02  1.0766308e-02  3.1665713e-04 -9.8163402e-03]\n",
            " [ 9.7213425e-02  4.7498420e-03 -1.4566176e-02 -4.8448391e-02]], shape=(4, 4), dtype=float32)\n"
          ]
        }
      ],
      "source": [
        "print(tensor_two_d_inv)"
      ]
    },
    {
      "cell_type": "code",
      "execution_count": null,
      "metadata": {
        "colab": {
          "base_uri": "https://localhost:8080/"
        },
        "id": "eq2rccJn2jFd",
        "outputId": "396ca191-cdfa-4b67-b2ed-dadfb9670ba3"
      },
      "outputs": [
        {
          "name": "stdout",
          "output_type": "stream",
          "text": [
            "tf.Tensor(\n",
            "[[[[ 1  2  0]\n",
            "   [ 3  5 -1]]\n",
            "\n",
            "  [[10  2  0]\n",
            "   [ 1  0  2]]\n",
            "\n",
            "  [[ 5  8  0]\n",
            "   [ 2  7  0]]\n",
            "\n",
            "  [[ 2  1  9]\n",
            "   [ 4 -3 32]]]], shape=(1, 4, 2, 3), dtype=int32)\n"
          ]
        }
      ],
      "source": [
        "tensor_three_d = tf.constant([\n",
        "    [[1,2,0],\n",
        "     [3,5,-1]],\n",
        "    [[10,2,0],\n",
        "     [1,0,2]],\n",
        "    [[5,8,0]\n",
        "     ,[2,7,0]],\n",
        "    [[2,1,9],\n",
        "     [4,-3,32]]\n",
        "])\n",
        "x_expanded = tf.expand_dims(tensor_three_d,axis=0)\n",
        "print(x_expanded)"
      ]
    },
    {
      "cell_type": "code",
      "execution_count": null,
      "metadata": {
        "colab": {
          "base_uri": "https://localhost:8080/"
        },
        "id": "dh-YSaXAH26k",
        "outputId": "13764e26-ce8b-4358-b3d6-ee94e7b6b6f7"
      },
      "outputs": [
        {
          "name": "stdout",
          "output_type": "stream",
          "text": [
            "tf.Tensor(\n",
            "[[[ 1  2  0]\n",
            "  [ 3  5 -1]]\n",
            "\n",
            " [[10  2  0]\n",
            "  [ 1  0  2]]\n",
            "\n",
            " [[ 5  8  0]\n",
            "  [ 2  7  0]]\n",
            "\n",
            " [[ 2  1  9]\n",
            "  [ 4 -3 32]]], shape=(4, 2, 3), dtype=int32)\n"
          ]
        }
      ],
      "source": [
        "x_squeezed = tf.squeeze(x_expanded,axis=0)\n",
        "print(x_squeezed)"
      ]
    },
    {
      "cell_type": "code",
      "execution_count": null,
      "metadata": {
        "colab": {
          "base_uri": "https://localhost:8080/"
        },
        "id": "UDhNtDJaI6sX",
        "outputId": "067f95d0-9f5b-42df-ca80-3256a8b210ed"
      },
      "outputs": [
        {
          "name": "stdout",
          "output_type": "stream",
          "text": [
            "tf.Tensor(\n",
            "[[[ 1  2  0]\n",
            "  [ 3  5 -1]]\n",
            "\n",
            " [[10  2  0]\n",
            "  [ 1  0  2]]\n",
            "\n",
            " [[ 5  8  0]\n",
            "  [ 2  7  0]]\n",
            "\n",
            " [[ 2  1  9]\n",
            "  [ 4 -3 32]]], shape=(4, 2, 3), dtype=int32)\n"
          ]
        }
      ],
      "source": [
        "print(tf.reshape(x_expanded,[4,2,3]))"
      ]
    },
    {
      "cell_type": "code",
      "execution_count": 8,
      "metadata": {
        "colab": {
          "base_uri": "https://localhost:8080/"
        },
        "id": "znU43fKGJzJq",
        "outputId": "5962c828-586f-483d-ea1c-e1b10899c165"
      },
      "outputs": [
        {
          "output_type": "stream",
          "name": "stdout",
          "text": [
            "tf.Tensor(\n",
            "[[ 1  2  3]\n",
            " [ 4  5  6]\n",
            " [ 7  8  9]\n",
            " [10 11 12]], shape=(4, 3), dtype=int32)\n",
            "tf.Tensor(\n",
            "[[ 1  2  3  7  8  9]\n",
            " [ 4  5  6 10 11 12]], shape=(2, 6), dtype=int32)\n"
          ]
        }
      ],
      "source": [
        "t1=[[1,2,3],\n",
        "    [4,5,6]]\n",
        "t2=[[7,8,9],\n",
        "    [10,11,12]]\n",
        "print(tf.concat([t1,t2],axis = 0))\n",
        "print(tf.concat([t1,t2],axis = 1))"
      ]
    },
    {
      "cell_type": "code",
      "execution_count": 9,
      "metadata": {
        "colab": {
          "base_uri": "https://localhost:8080/"
        },
        "id": "Ab8zu4KpTHSV",
        "outputId": "4169981b-8cf9-4104-f116-cbd063637a39"
      },
      "outputs": [
        {
          "output_type": "stream",
          "name": "stdout",
          "text": [
            "(2, 2, 3)\n"
          ]
        }
      ],
      "source": [
        " print(tf.stack([t1,t2],axis=1).shape)"
      ]
    },
    {
      "cell_type": "code",
      "execution_count": 10,
      "metadata": {
        "colab": {
          "base_uri": "https://localhost:8080/",
          "height": 415
        },
        "id": "QiDL-fqeUF9Y",
        "outputId": "6fe13378-bd77-4733-963e-cb015953c396"
      },
      "outputs": [
        {
          "output_type": "error",
          "ename": "TypeError",
          "evalue": "ignored",
          "traceback": [
            "\u001b[0;31m---------------------------------------------------------------------------\u001b[0m",
            "\u001b[0;31mAttributeError\u001b[0m                            Traceback (most recent call last)",
            "\u001b[0;32m/usr/local/lib/python3.10/dist-packages/tensorflow/python/framework/constant_op.py\u001b[0m in \u001b[0;36mconvert_to_eager_tensor\u001b[0;34m(value, ctx, dtype)\u001b[0m\n\u001b[1;32m     98\u001b[0m     \u001b[0;32mtry\u001b[0m\u001b[0;34m:\u001b[0m\u001b[0;34m\u001b[0m\u001b[0;34m\u001b[0m\u001b[0m\n\u001b[0;32m---> 99\u001b[0;31m       \u001b[0mdtype\u001b[0m \u001b[0;34m=\u001b[0m \u001b[0mdtype\u001b[0m\u001b[0;34m.\u001b[0m\u001b[0mas_datatype_enum\u001b[0m\u001b[0;34m\u001b[0m\u001b[0;34m\u001b[0m\u001b[0m\n\u001b[0m\u001b[1;32m    100\u001b[0m     \u001b[0;32mexcept\u001b[0m \u001b[0mAttributeError\u001b[0m\u001b[0;34m:\u001b[0m\u001b[0;34m\u001b[0m\u001b[0;34m\u001b[0m\u001b[0m\n",
            "\u001b[0;31mAttributeError\u001b[0m: 'list' object has no attribute 'as_datatype_enum'",
            "\nDuring handling of the above exception, another exception occurred:\n",
            "\u001b[0;31mTypeError\u001b[0m                                 Traceback (most recent call last)",
            "\u001b[0;32m<ipython-input-10-d0654663e8bf>\u001b[0m in \u001b[0;36m<cell line: 2>\u001b[0;34m()\u001b[0m\n\u001b[1;32m      1\u001b[0m \u001b[0mt\u001b[0m\u001b[0;34m=\u001b[0m\u001b[0mtf\u001b[0m\u001b[0;34m.\u001b[0m\u001b[0mconstant\u001b[0m\u001b[0;34m(\u001b[0m\u001b[0;34m[\u001b[0m\u001b[0;34m[\u001b[0m\u001b[0;36m1\u001b[0m\u001b[0;34m,\u001b[0m\u001b[0;36m2\u001b[0m\u001b[0;34m,\u001b[0m\u001b[0;36m3\u001b[0m\u001b[0;34m]\u001b[0m\u001b[0;34m,\u001b[0m\u001b[0;34m[\u001b[0m\u001b[0;36m4\u001b[0m\u001b[0;34m,\u001b[0m\u001b[0;36m5\u001b[0m\u001b[0;34m,\u001b[0m\u001b[0;36m6\u001b[0m\u001b[0;34m]\u001b[0m\u001b[0;34m]\u001b[0m\u001b[0;34m)\u001b[0m\u001b[0;34m\u001b[0m\u001b[0;34m\u001b[0m\u001b[0m\n\u001b[0;32m----> 2\u001b[0;31m padding = tf.constant([1,1],\n\u001b[0m\u001b[1;32m      3\u001b[0m                       [2,2])\n\u001b[1;32m      4\u001b[0m \u001b[0mtf\u001b[0m\u001b[0;34m.\u001b[0m\u001b[0mpad\u001b[0m\u001b[0;34m(\u001b[0m\u001b[0mt\u001b[0m\u001b[0;34m,\u001b[0m\u001b[0mpadding\u001b[0m\u001b[0;34m,\u001b[0m\u001b[0;34m\"CONSTANT\"\u001b[0m\u001b[0;34m)\u001b[0m\u001b[0;34m\u001b[0m\u001b[0;34m\u001b[0m\u001b[0m\n",
            "\u001b[0;32m/usr/local/lib/python3.10/dist-packages/tensorflow/python/framework/constant_op.py\u001b[0m in \u001b[0;36mconstant\u001b[0;34m(value, dtype, shape, name)\u001b[0m\n\u001b[1;32m    266\u001b[0m     \u001b[0mValueError\u001b[0m\u001b[0;34m:\u001b[0m \u001b[0;32mif\u001b[0m \u001b[0mcalled\u001b[0m \u001b[0mon\u001b[0m \u001b[0ma\u001b[0m \u001b[0msymbolic\u001b[0m \u001b[0mtensor\u001b[0m\u001b[0;34m.\u001b[0m\u001b[0;34m\u001b[0m\u001b[0;34m\u001b[0m\u001b[0m\n\u001b[1;32m    267\u001b[0m   \"\"\"\n\u001b[0;32m--> 268\u001b[0;31m   return _constant_impl(value, dtype, shape, name, verify_shape=False,\n\u001b[0m\u001b[1;32m    269\u001b[0m                         allow_broadcast=True)\n\u001b[1;32m    270\u001b[0m \u001b[0;34m\u001b[0m\u001b[0m\n",
            "\u001b[0;32m/usr/local/lib/python3.10/dist-packages/tensorflow/python/framework/constant_op.py\u001b[0m in \u001b[0;36m_constant_impl\u001b[0;34m(value, dtype, shape, name, verify_shape, allow_broadcast)\u001b[0m\n\u001b[1;32m    278\u001b[0m       \u001b[0;32mwith\u001b[0m \u001b[0mtrace\u001b[0m\u001b[0;34m.\u001b[0m\u001b[0mTrace\u001b[0m\u001b[0;34m(\u001b[0m\u001b[0;34m\"tf.constant\"\u001b[0m\u001b[0;34m)\u001b[0m\u001b[0;34m:\u001b[0m\u001b[0;34m\u001b[0m\u001b[0;34m\u001b[0m\u001b[0m\n\u001b[1;32m    279\u001b[0m         \u001b[0;32mreturn\u001b[0m \u001b[0m_constant_eager_impl\u001b[0m\u001b[0;34m(\u001b[0m\u001b[0mctx\u001b[0m\u001b[0;34m,\u001b[0m \u001b[0mvalue\u001b[0m\u001b[0;34m,\u001b[0m \u001b[0mdtype\u001b[0m\u001b[0;34m,\u001b[0m \u001b[0mshape\u001b[0m\u001b[0;34m,\u001b[0m \u001b[0mverify_shape\u001b[0m\u001b[0;34m)\u001b[0m\u001b[0;34m\u001b[0m\u001b[0;34m\u001b[0m\u001b[0m\n\u001b[0;32m--> 280\u001b[0;31m     \u001b[0;32mreturn\u001b[0m \u001b[0m_constant_eager_impl\u001b[0m\u001b[0;34m(\u001b[0m\u001b[0mctx\u001b[0m\u001b[0;34m,\u001b[0m \u001b[0mvalue\u001b[0m\u001b[0;34m,\u001b[0m \u001b[0mdtype\u001b[0m\u001b[0;34m,\u001b[0m \u001b[0mshape\u001b[0m\u001b[0;34m,\u001b[0m \u001b[0mverify_shape\u001b[0m\u001b[0;34m)\u001b[0m\u001b[0;34m\u001b[0m\u001b[0;34m\u001b[0m\u001b[0m\n\u001b[0m\u001b[1;32m    281\u001b[0m \u001b[0;34m\u001b[0m\u001b[0m\n\u001b[1;32m    282\u001b[0m   \u001b[0mg\u001b[0m \u001b[0;34m=\u001b[0m \u001b[0mops\u001b[0m\u001b[0;34m.\u001b[0m\u001b[0mget_default_graph\u001b[0m\u001b[0;34m(\u001b[0m\u001b[0;34m)\u001b[0m\u001b[0;34m\u001b[0m\u001b[0;34m\u001b[0m\u001b[0m\n",
            "\u001b[0;32m/usr/local/lib/python3.10/dist-packages/tensorflow/python/framework/constant_op.py\u001b[0m in \u001b[0;36m_constant_eager_impl\u001b[0;34m(ctx, value, dtype, shape, verify_shape)\u001b[0m\n\u001b[1;32m    303\u001b[0m \u001b[0;32mdef\u001b[0m \u001b[0m_constant_eager_impl\u001b[0m\u001b[0;34m(\u001b[0m\u001b[0mctx\u001b[0m\u001b[0;34m,\u001b[0m \u001b[0mvalue\u001b[0m\u001b[0;34m,\u001b[0m \u001b[0mdtype\u001b[0m\u001b[0;34m,\u001b[0m \u001b[0mshape\u001b[0m\u001b[0;34m,\u001b[0m \u001b[0mverify_shape\u001b[0m\u001b[0;34m)\u001b[0m\u001b[0;34m:\u001b[0m\u001b[0;34m\u001b[0m\u001b[0;34m\u001b[0m\u001b[0m\n\u001b[1;32m    304\u001b[0m   \u001b[0;34m\"\"\"Creates a constant on the current device.\"\"\"\u001b[0m\u001b[0;34m\u001b[0m\u001b[0;34m\u001b[0m\u001b[0m\n\u001b[0;32m--> 305\u001b[0;31m   \u001b[0mt\u001b[0m \u001b[0;34m=\u001b[0m \u001b[0mconvert_to_eager_tensor\u001b[0m\u001b[0;34m(\u001b[0m\u001b[0mvalue\u001b[0m\u001b[0;34m,\u001b[0m \u001b[0mctx\u001b[0m\u001b[0;34m,\u001b[0m \u001b[0mdtype\u001b[0m\u001b[0;34m)\u001b[0m\u001b[0;34m\u001b[0m\u001b[0;34m\u001b[0m\u001b[0m\n\u001b[0m\u001b[1;32m    306\u001b[0m   \u001b[0;32mif\u001b[0m \u001b[0mshape\u001b[0m \u001b[0;32mis\u001b[0m \u001b[0;32mNone\u001b[0m\u001b[0;34m:\u001b[0m\u001b[0;34m\u001b[0m\u001b[0;34m\u001b[0m\u001b[0m\n\u001b[1;32m    307\u001b[0m     \u001b[0;32mreturn\u001b[0m \u001b[0mt\u001b[0m\u001b[0;34m\u001b[0m\u001b[0;34m\u001b[0m\u001b[0m\n",
            "\u001b[0;32m/usr/local/lib/python3.10/dist-packages/tensorflow/python/framework/constant_op.py\u001b[0m in \u001b[0;36mconvert_to_eager_tensor\u001b[0;34m(value, ctx, dtype)\u001b[0m\n\u001b[1;32m     99\u001b[0m       \u001b[0mdtype\u001b[0m \u001b[0;34m=\u001b[0m \u001b[0mdtype\u001b[0m\u001b[0;34m.\u001b[0m\u001b[0mas_datatype_enum\u001b[0m\u001b[0;34m\u001b[0m\u001b[0;34m\u001b[0m\u001b[0m\n\u001b[1;32m    100\u001b[0m     \u001b[0;32mexcept\u001b[0m \u001b[0mAttributeError\u001b[0m\u001b[0;34m:\u001b[0m\u001b[0;34m\u001b[0m\u001b[0;34m\u001b[0m\u001b[0m\n\u001b[0;32m--> 101\u001b[0;31m       \u001b[0mdtype\u001b[0m \u001b[0;34m=\u001b[0m \u001b[0mdtypes\u001b[0m\u001b[0;34m.\u001b[0m\u001b[0mas_dtype\u001b[0m\u001b[0;34m(\u001b[0m\u001b[0mdtype\u001b[0m\u001b[0;34m)\u001b[0m\u001b[0;34m.\u001b[0m\u001b[0mas_datatype_enum\u001b[0m\u001b[0;34m\u001b[0m\u001b[0;34m\u001b[0m\u001b[0m\n\u001b[0m\u001b[1;32m    102\u001b[0m   \u001b[0mctx\u001b[0m\u001b[0;34m.\u001b[0m\u001b[0mensure_initialized\u001b[0m\u001b[0;34m(\u001b[0m\u001b[0;34m)\u001b[0m\u001b[0;34m\u001b[0m\u001b[0;34m\u001b[0m\u001b[0m\n\u001b[1;32m    103\u001b[0m   \u001b[0;32mreturn\u001b[0m \u001b[0mops\u001b[0m\u001b[0;34m.\u001b[0m\u001b[0mEagerTensor\u001b[0m\u001b[0;34m(\u001b[0m\u001b[0mvalue\u001b[0m\u001b[0;34m,\u001b[0m \u001b[0mctx\u001b[0m\u001b[0;34m.\u001b[0m\u001b[0mdevice_name\u001b[0m\u001b[0;34m,\u001b[0m \u001b[0mdtype\u001b[0m\u001b[0;34m)\u001b[0m\u001b[0;34m\u001b[0m\u001b[0;34m\u001b[0m\u001b[0m\n",
            "\u001b[0;32m/usr/local/lib/python3.10/dist-packages/tensorflow/python/framework/dtypes.py\u001b[0m in \u001b[0;36mas_dtype\u001b[0;34m(type_value)\u001b[0m\n\u001b[1;32m    827\u001b[0m     \u001b[0;32mreturn\u001b[0m \u001b[0m_INTERN_TABLE\u001b[0m\u001b[0;34m[\u001b[0m\u001b[0mtype_value\u001b[0m\u001b[0;34m.\u001b[0m\u001b[0mas_datatype_enum\u001b[0m\u001b[0;34m]\u001b[0m\u001b[0;34m\u001b[0m\u001b[0;34m\u001b[0m\u001b[0m\n\u001b[1;32m    828\u001b[0m \u001b[0;34m\u001b[0m\u001b[0m\n\u001b[0;32m--> 829\u001b[0;31m   raise TypeError(f\"Cannot convert the argument `type_value`: {type_value!r} \"\n\u001b[0m\u001b[1;32m    830\u001b[0m                   \"to a TensorFlow DType.\")\n",
            "\u001b[0;31mTypeError\u001b[0m: Cannot convert the argument `type_value`: [2, 2] to a TensorFlow DType."
          ]
        }
      ],
      "source": [
        "t=tf.constant([[1,2,3],[4,5,6]])\n",
        "padding = tf.constant([1,1],\n",
        "                      [2,2])\n",
        "tf.pad(t,padding,\"CONSTANT\")"
      ]
    },
    {
      "cell_type": "code",
      "execution_count": 11,
      "metadata": {
        "id": "vehax30uzRR4",
        "colab": {
          "base_uri": "https://localhost:8080/"
        },
        "outputId": "921b0a35-b7a0-4bb9-8a35-6cb14c9c5abd"
      },
      "outputs": [
        {
          "output_type": "execute_result",
          "data": {
            "text/plain": [
              "<tf.Tensor: shape=(2, 2), dtype=string, numpy=\n",
              "array([[b'e', b'f'],\n",
              "       [b'c', b'd']], dtype=object)>"
            ]
          },
          "metadata": {},
          "execution_count": 11
        }
      ],
      "source": [
        "indices = [[2],\n",
        "           [1]]\n",
        "params = [['a','b'],\n",
        "          ['c','d'],\n",
        "          ['e','f']]\n",
        "tf.gather_nd(params,indices)"
      ]
    },
    {
      "cell_type": "code",
      "source": [
        "indices = [[0,1],[1,0]]\n",
        "params = [[['a0','b0'],\n",
        "           ['c0','d0']],\n",
        "          [['a1','b1'],\n",
        "           ['c1','d1']]]\n",
        "indices_1 = [[0,1,0],[1,0,1]]\n",
        "tf.gather_nd(params,indices)\n",
        "tf.gather_nd(params,indices,batch_dims=1)#batch_dims makes it aware of the batch pre-selects dimensions"
      ],
      "metadata": {
        "colab": {
          "base_uri": "https://localhost:8080/"
        },
        "id": "RoyYL8r01ooA",
        "outputId": "ac8054db-fbbe-4afc-9c5d-e7325ebefa6c"
      },
      "execution_count": 18,
      "outputs": [
        {
          "output_type": "execute_result",
          "data": {
            "text/plain": [
              "<tf.Tensor: shape=(2,), dtype=string, numpy=array([b'b0', b'c1'], dtype=object)>"
            ]
          },
          "metadata": {},
          "execution_count": 18
        }
      ]
    },
    {
      "cell_type": "code",
      "source": [
        "tf.gather_nd(params,indices_1)"
      ],
      "metadata": {
        "colab": {
          "base_uri": "https://localhost:8080/"
        },
        "id": "X_Xmnax53C9p",
        "outputId": "e9730faf-ab70-4b5b-b962-5b07fbb90789"
      },
      "execution_count": 16,
      "outputs": [
        {
          "output_type": "execute_result",
          "data": {
            "text/plain": [
              "<tf.Tensor: shape=(2,), dtype=string, numpy=array([b'c0', b'b1'], dtype=object)>"
            ]
          },
          "metadata": {},
          "execution_count": 16
        }
      ]
    },
    {
      "cell_type": "code",
      "source": [
        "indices = [[[0,1],\n",
        "            [1,0]],\n",
        "           [[0,0],\n",
        "            [1,1]]]\n",
        "tf.gather_nd(params,indices,batch_dims=1)"
      ],
      "metadata": {
        "colab": {
          "base_uri": "https://localhost:8080/"
        },
        "id": "qLpyQdQU322F",
        "outputId": "e66a2378-52fa-4c8e-d8d5-7760dca92791"
      },
      "execution_count": 19,
      "outputs": [
        {
          "output_type": "execute_result",
          "data": {
            "text/plain": [
              "<tf.Tensor: shape=(2, 2), dtype=string, numpy=\n",
              "array([[b'b0', b'c0'],\n",
              "       [b'a1', b'd1']], dtype=object)>"
            ]
          },
          "metadata": {},
          "execution_count": 19
        }
      ]
    },
    {
      "cell_type": "markdown",
      "source": [
        "## Ragged Tensors"
      ],
      "metadata": {
        "id": "gQm9JxcR6Fyb"
      }
    },
    {
      "cell_type": "code",
      "source": [
        "tensor_two_d=[[1,2,0],\n",
        "              [3],\n",
        "              [1,5,6,5,7],\n",
        "              [2,3]]\n",
        "\n",
        "tensor_ragged = tf.ragged.constant(tensor_two_d)\n",
        "print(tensor_ragged.shape)"
      ],
      "metadata": {
        "colab": {
          "base_uri": "https://localhost:8080/"
        },
        "id": "UosmFIJl4GYQ",
        "outputId": "0bc4b495-142f-4b55-f1ce-f3beaef8abbd"
      },
      "execution_count": 20,
      "outputs": [
        {
          "output_type": "stream",
          "name": "stdout",
          "text": [
            "(4, None)\n"
          ]
        }
      ]
    },
    {
      "cell_type": "markdown",
      "source": [
        "### Lets us store tensors which are not rectangular"
      ],
      "metadata": {
        "id": "3RHD9zLl7Q7b"
      }
    },
    {
      "cell_type": "code",
      "source": [
        "print(tensor_ragged)"
      ],
      "metadata": {
        "colab": {
          "base_uri": "https://localhost:8080/"
        },
        "id": "M74MUhlU7K_6",
        "outputId": "838a98ca-6e64-4852-e147-8bb65021ae38"
      },
      "execution_count": 21,
      "outputs": [
        {
          "output_type": "stream",
          "name": "stdout",
          "text": [
            "<tf.RaggedTensor [[1, 2, 0], [3], [1, 5, 6, 5, 7], [2, 3]]>\n"
          ]
        }
      ]
    },
    {
      "cell_type": "code",
      "source": [
        "print(tf.RaggedTensor.from_row_lengths(\n",
        "    values = [3,1,4,1,5,9,2,6],\n",
        "    row_lengths = [4,0,3,1,0]\n",
        "))"
      ],
      "metadata": {
        "colab": {
          "base_uri": "https://localhost:8080/"
        },
        "id": "LKefD_877O9I",
        "outputId": "581b7e78-310d-4664-f6a7-137aadb318b4"
      },
      "execution_count": 29,
      "outputs": [
        {
          "output_type": "stream",
          "name": "stdout",
          "text": [
            "<tf.RaggedTensor [[3, 1, 4, 1], [], [5, 9, 2], [6], []]>\n"
          ]
        }
      ]
    },
    {
      "cell_type": "code",
      "source": [
        "print(tf.RaggedTensor.from_row_limits(\n",
        "    values = [3,1,4,1,5,9,2,6],\n",
        "    row_limits = [4,4,7,8,8]\n",
        "))"
      ],
      "metadata": {
        "colab": {
          "base_uri": "https://localhost:8080/"
        },
        "id": "EQpRuM-V8NXt",
        "outputId": "f18a8b25-92b1-4567-c6d7-5d495a18ab3a"
      },
      "execution_count": 27,
      "outputs": [
        {
          "output_type": "stream",
          "name": "stdout",
          "text": [
            "<tf.RaggedTensor [[3, 1, 4, 1], [], [5, 9, 2], [6], []]>\n"
          ]
        }
      ]
    },
    {
      "cell_type": "code",
      "source": [
        "print(tf.RaggedTensor.from_row_splits(\n",
        "    values = [3,1,4,1,5,9,2,6],\n",
        "    row_splits = [0,4,4,7,8,8]\n",
        "))"
      ],
      "metadata": {
        "colab": {
          "base_uri": "https://localhost:8080/"
        },
        "id": "7BJMmOmi8uVV",
        "outputId": "7c280ddf-cb59-4794-bd74-6f2f269d478e"
      },
      "execution_count": 28,
      "outputs": [
        {
          "output_type": "stream",
          "name": "stdout",
          "text": [
            "<tf.RaggedTensor [[3, 1, 4, 1], [], [5, 9, 2], [6], []]>\n"
          ]
        }
      ]
    },
    {
      "cell_type": "markdown",
      "source": [
        "## Sparse Tensors"
      ],
      "metadata": {
        "id": "_T99ZpIf9kZF"
      }
    },
    {
      "cell_type": "code",
      "source": [
        "tensor_sparse = tf.sparse.SparseTensor(\n",
        "    indices=[[1,1],[3,4]], values=[11,56],dense_shape=[5,6]\n",
        ")"
      ],
      "metadata": {
        "id": "5nU8L3eY9BkL"
      },
      "execution_count": 30,
      "outputs": []
    },
    {
      "cell_type": "code",
      "source": [
        "print(tensor_sparse)"
      ],
      "metadata": {
        "colab": {
          "base_uri": "https://localhost:8080/"
        },
        "id": "nubEgWUu-Aqf",
        "outputId": "d92c8f8f-62da-4317-b608-0d8c7eee77b6"
      },
      "execution_count": 31,
      "outputs": [
        {
          "output_type": "stream",
          "name": "stdout",
          "text": [
            "SparseTensor(indices=tf.Tensor(\n",
            "[[1 1]\n",
            " [3 4]], shape=(2, 2), dtype=int64), values=tf.Tensor([11 56], shape=(2,), dtype=int32), dense_shape=tf.Tensor([5 6], shape=(2,), dtype=int64))\n"
          ]
        }
      ]
    },
    {
      "cell_type": "code",
      "source": [
        "tf.sparse.to_dense(tensor_sparse)"
      ],
      "metadata": {
        "colab": {
          "base_uri": "https://localhost:8080/"
        },
        "id": "j-ry8ZcQ-C7j",
        "outputId": "e2ce891e-3f58-4a97-e204-9c6ab37f3658"
      },
      "execution_count": 32,
      "outputs": [
        {
          "output_type": "execute_result",
          "data": {
            "text/plain": [
              "<tf.Tensor: shape=(5, 6), dtype=int32, numpy=\n",
              "array([[ 0,  0,  0,  0,  0,  0],\n",
              "       [ 0, 11,  0,  0,  0,  0],\n",
              "       [ 0,  0,  0,  0,  0,  0],\n",
              "       [ 0,  0,  0,  0, 56,  0],\n",
              "       [ 0,  0,  0,  0,  0,  0]], dtype=int32)>"
            ]
          },
          "metadata": {},
          "execution_count": 32
        }
      ]
    },
    {
      "cell_type": "markdown",
      "source": [
        "## String Tensors"
      ],
      "metadata": {
        "id": "2H1Jc8mU-j_9"
      }
    },
    {
      "cell_type": "code",
      "source": [
        "tensor_string = tf.constant([\"Hello\",\"i am\",\"a string\"])\n",
        "print(tensor_string)"
      ],
      "metadata": {
        "colab": {
          "base_uri": "https://localhost:8080/"
        },
        "id": "UAn-TRDO-RlV",
        "outputId": "dc7c5085-63c1-49dc-d001-3669eb8b1e94"
      },
      "execution_count": 33,
      "outputs": [
        {
          "output_type": "stream",
          "name": "stdout",
          "text": [
            "tf.Tensor([b'Hello' b'i am' b'a string'], shape=(3,), dtype=string)\n"
          ]
        }
      ]
    },
    {
      "cell_type": "code",
      "source": [
        "tf.strings.join(tensor_string,separator=\" \")"
      ],
      "metadata": {
        "colab": {
          "base_uri": "https://localhost:8080/"
        },
        "id": "ofoyC2Gk-5g5",
        "outputId": "9de39216-0446-41ec-9407-b8fe57b873a0"
      },
      "execution_count": 35,
      "outputs": [
        {
          "output_type": "execute_result",
          "data": {
            "text/plain": [
              "<tf.Tensor: shape=(), dtype=string, numpy=b'Hello i am a string'>"
            ]
          },
          "metadata": {},
          "execution_count": 35
        }
      ]
    },
    {
      "cell_type": "markdown",
      "source": [
        "## Variables"
      ],
      "metadata": {
        "id": "BjtKXzI7_4Ca"
      }
    },
    {
      "cell_type": "code",
      "source": [
        "x=tf.constant([1,2])\n",
        "x_var= tf.Variable(x,name='var1')\n",
        "print(x_var)"
      ],
      "metadata": {
        "colab": {
          "base_uri": "https://localhost:8080/"
        },
        "id": "jIcEIOV4_PC1",
        "outputId": "26d85fee-5357-4257-a443-bd743291bf0b"
      },
      "execution_count": 37,
      "outputs": [
        {
          "output_type": "stream",
          "name": "stdout",
          "text": [
            "<tf.Variable 'var1:0' shape=(2,) dtype=int32, numpy=array([1, 2], dtype=int32)>\n"
          ]
        }
      ]
    },
    {
      "cell_type": "code",
      "source": [
        "x_var.assign_sub([3,4])"
      ],
      "metadata": {
        "colab": {
          "base_uri": "https://localhost:8080/"
        },
        "id": "o4SM6-OhABNz",
        "outputId": "aa5c02ec-0a09-45cd-c06a-b959e23a1b7f"
      },
      "execution_count": 38,
      "outputs": [
        {
          "output_type": "execute_result",
          "data": {
            "text/plain": [
              "<tf.Variable 'UnreadVariable' shape=(2,) dtype=int32, numpy=array([-2, -2], dtype=int32)>"
            ]
          },
          "metadata": {},
          "execution_count": 38
        }
      ]
    },
    {
      "cell_type": "code",
      "source": [
        "x_var.assign_add([5,8])"
      ],
      "metadata": {
        "colab": {
          "base_uri": "https://localhost:8080/"
        },
        "id": "r5qeVgWtARel",
        "outputId": "42feac29-4687-4457-bf85-fd2a13a83f1a"
      },
      "execution_count": 39,
      "outputs": [
        {
          "output_type": "execute_result",
          "data": {
            "text/plain": [
              "<tf.Variable 'UnreadVariable' shape=(2,) dtype=int32, numpy=array([3, 6], dtype=int32)>"
            ]
          },
          "metadata": {},
          "execution_count": 39
        }
      ]
    },
    {
      "cell_type": "code",
      "source": [
        "with tf.device('GPU:0'):\n",
        "  x_var = tf.Variable(0.2)\n",
        "print(x_var.device)"
      ],
      "metadata": {
        "colab": {
          "base_uri": "https://localhost:8080/"
        },
        "id": "v9ewr6xPAcBo",
        "outputId": "6cdebeb1-4e27-4419-d221-1a5ee59ee05f"
      },
      "execution_count": 2,
      "outputs": [
        {
          "output_type": "stream",
          "name": "stdout",
          "text": [
            "/job:localhost/replica:0/task:0/device:GPU:0\n"
          ]
        }
      ]
    },
    {
      "cell_type": "code",
      "source": [],
      "metadata": {
        "id": "8PHr7RaIHm1u"
      },
      "execution_count": null,
      "outputs": []
    }
  ],
  "metadata": {
    "accelerator": "GPU",
    "colab": {
      "provenance": [],
      "authorship_tag": "ABX9TyMG5i3YYyP/i7T+xX/aNCnb",
      "include_colab_link": true
    },
    "kernelspec": {
      "display_name": "Python 3",
      "name": "python3"
    },
    "language_info": {
      "name": "python"
    }
  },
  "nbformat": 4,
  "nbformat_minor": 0
}